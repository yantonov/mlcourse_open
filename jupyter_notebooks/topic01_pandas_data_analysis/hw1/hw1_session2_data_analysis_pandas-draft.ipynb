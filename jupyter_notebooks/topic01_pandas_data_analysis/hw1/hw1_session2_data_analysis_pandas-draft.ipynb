{
 "cells": [
  {
   "cell_type": "markdown",
   "metadata": {},
   "source": [
    "<center>\n",
    "<img src=\"../../img/ods_stickers.jpg\">\n",
    "## Открытый курс по машинному обучению. Сессия № 2\n",
    "</center>\n",
    "Автор материала: программист-исследователь Mail.ru Group, старший преподаватель Факультета Компьютерных Наук ВШЭ Юрий Кашницкий. Материал распространяется на условиях лицензии [Creative Commons CC BY-NC-SA 4.0](https://creativecommons.org/licenses/by-nc-sa/4.0/). Можно использовать в любых целях (редактировать, поправлять и брать за основу), кроме коммерческих, но с обязательным упоминанием автора материала."
   ]
  },
  {
   "cell_type": "markdown",
   "metadata": {},
   "source": [
    "# <center> Домашнее задание № 1\n",
    "## <center> Анализ данных по сердечно-сосудистым заболеваниям\n",
    "*Идеальный просмотр Jupyter notebooks возможен только локально, GitHub и nbviewer могут неправильно отбражать формулы или картинки.*"
   ]
  },
  {
   "cell_type": "markdown",
   "metadata": {},
   "source": [
    "**В задании предлагается с помощью Pandas ответить на несколько вопросов по данным о сердечно-сосудистых заболеваниях (качать данные не надо, они уже есть в репозитории). Данные использовались в соревновании [Ml Boot Camp 5](http://mlbootcamp.ru/round/12/sandbox/).**\n",
    "\n",
    "**Заполните код в клетках (где написано \"Ваш код здесь\") и ответьте на вопросы в [веб-форме](https://goo.gl/8D8uDf).**"
   ]
  },
  {
   "cell_type": "markdown",
   "metadata": {},
   "source": [
    "В соревновании предлагалось определить наличие/отсутствие сердечно-сосудистых заболеваний (ССЗ) по результатам осмотра пациента.\n",
    "\n",
    "**Описание данных.**\n",
    "\n",
    "Объективные признаки:\n",
    "\n",
    " - Возраст (age)\n",
    " - Рост (height)\n",
    " - Вес (weight)\n",
    " - Пол (gender)\n",
    " \n",
    "\n",
    "Результаты измерения:\n",
    "\n",
    " - Артериальное давление верхнее и нижнее (ap_hi, ap_lo)\n",
    " - Холестерин (cholesterol)\n",
    " - Глюкоза (gluc)\n",
    " \n",
    "\n",
    "Субъективные признаки (со слов пациентов):\n",
    "\n",
    " - Курение (smoke)\n",
    " - Употребление алкоголя (alco)\n",
    " - Физическая активность (active)\n",
    " \n",
    "Целевой признак (который интересно будет прогнозировать):\n",
    " - Наличие сердечно-сосудистых заболеваний по результатам классического врачебного осмотра (cardio)\n",
    "\n",
    "Значения показателей холестерина и глюкозы представлены одним из трех классов: норма, выше нормы, значительно выше нормы. Значения субъективных признаков — бинарны.\n",
    "\n",
    "Все показатели даны на момент осмотра.\n",
    "\n",
    "Мы будем работать только с обучающей выборкой и с помощью `Pandas` проведем первичный анализ данных. "
   ]
  },
  {
   "cell_type": "markdown",
   "metadata": {},
   "source": [
    "Из библиотек нам понадобятся только `NumPy` и `Pandas`."
   ]
  },
  {
   "cell_type": "code",
   "execution_count": 1,
   "metadata": {
    "collapsed": true
   },
   "outputs": [],
   "source": [
    "import numpy as np\n",
    "import pandas as pd"
   ]
  },
  {
   "cell_type": "markdown",
   "metadata": {},
   "source": [
    "Считываем данные из CSV-файла в объект pandas DataFrame.  "
   ]
  },
  {
   "cell_type": "code",
   "execution_count": 2,
   "metadata": {
    "collapsed": true
   },
   "outputs": [],
   "source": [
    "df = pd.read_csv('../../data/mlbootcamp5_train.csv', sep=';', \n",
    "                 index_col='id')"
   ]
  },
  {
   "cell_type": "markdown",
   "metadata": {},
   "source": [
    "Посмотрим на первые 5 записей."
   ]
  },
  {
   "cell_type": "code",
   "execution_count": 3,
   "metadata": {},
   "outputs": [
    {
     "data": {
      "text/html": [
       "<div>\n",
       "<style>\n",
       "    .dataframe thead tr:only-child th {\n",
       "        text-align: right;\n",
       "    }\n",
       "\n",
       "    .dataframe thead th {\n",
       "        text-align: left;\n",
       "    }\n",
       "\n",
       "    .dataframe tbody tr th {\n",
       "        vertical-align: top;\n",
       "    }\n",
       "</style>\n",
       "<table border=\"1\" class=\"dataframe\">\n",
       "  <thead>\n",
       "    <tr style=\"text-align: right;\">\n",
       "      <th></th>\n",
       "      <th>age</th>\n",
       "      <th>gender</th>\n",
       "      <th>height</th>\n",
       "      <th>weight</th>\n",
       "      <th>ap_hi</th>\n",
       "      <th>ap_lo</th>\n",
       "      <th>cholesterol</th>\n",
       "      <th>gluc</th>\n",
       "      <th>smoke</th>\n",
       "      <th>alco</th>\n",
       "      <th>active</th>\n",
       "      <th>cardio</th>\n",
       "    </tr>\n",
       "    <tr>\n",
       "      <th>id</th>\n",
       "      <th></th>\n",
       "      <th></th>\n",
       "      <th></th>\n",
       "      <th></th>\n",
       "      <th></th>\n",
       "      <th></th>\n",
       "      <th></th>\n",
       "      <th></th>\n",
       "      <th></th>\n",
       "      <th></th>\n",
       "      <th></th>\n",
       "      <th></th>\n",
       "    </tr>\n",
       "  </thead>\n",
       "  <tbody>\n",
       "    <tr>\n",
       "      <th>0</th>\n",
       "      <td>18393</td>\n",
       "      <td>2</td>\n",
       "      <td>168</td>\n",
       "      <td>62.0</td>\n",
       "      <td>110</td>\n",
       "      <td>80</td>\n",
       "      <td>1</td>\n",
       "      <td>1</td>\n",
       "      <td>0</td>\n",
       "      <td>0</td>\n",
       "      <td>1</td>\n",
       "      <td>0</td>\n",
       "    </tr>\n",
       "    <tr>\n",
       "      <th>1</th>\n",
       "      <td>20228</td>\n",
       "      <td>1</td>\n",
       "      <td>156</td>\n",
       "      <td>85.0</td>\n",
       "      <td>140</td>\n",
       "      <td>90</td>\n",
       "      <td>3</td>\n",
       "      <td>1</td>\n",
       "      <td>0</td>\n",
       "      <td>0</td>\n",
       "      <td>1</td>\n",
       "      <td>1</td>\n",
       "    </tr>\n",
       "    <tr>\n",
       "      <th>2</th>\n",
       "      <td>18857</td>\n",
       "      <td>1</td>\n",
       "      <td>165</td>\n",
       "      <td>64.0</td>\n",
       "      <td>130</td>\n",
       "      <td>70</td>\n",
       "      <td>3</td>\n",
       "      <td>1</td>\n",
       "      <td>0</td>\n",
       "      <td>0</td>\n",
       "      <td>0</td>\n",
       "      <td>1</td>\n",
       "    </tr>\n",
       "    <tr>\n",
       "      <th>3</th>\n",
       "      <td>17623</td>\n",
       "      <td>2</td>\n",
       "      <td>169</td>\n",
       "      <td>82.0</td>\n",
       "      <td>150</td>\n",
       "      <td>100</td>\n",
       "      <td>1</td>\n",
       "      <td>1</td>\n",
       "      <td>0</td>\n",
       "      <td>0</td>\n",
       "      <td>1</td>\n",
       "      <td>1</td>\n",
       "    </tr>\n",
       "    <tr>\n",
       "      <th>4</th>\n",
       "      <td>17474</td>\n",
       "      <td>1</td>\n",
       "      <td>156</td>\n",
       "      <td>56.0</td>\n",
       "      <td>100</td>\n",
       "      <td>60</td>\n",
       "      <td>1</td>\n",
       "      <td>1</td>\n",
       "      <td>0</td>\n",
       "      <td>0</td>\n",
       "      <td>0</td>\n",
       "      <td>0</td>\n",
       "    </tr>\n",
       "  </tbody>\n",
       "</table>\n",
       "</div>"
      ],
      "text/plain": [
       "      age  gender  height  weight  ap_hi  ap_lo  cholesterol  gluc  smoke  \\\n",
       "id                                                                          \n",
       "0   18393       2     168    62.0    110     80            1     1      0   \n",
       "1   20228       1     156    85.0    140     90            3     1      0   \n",
       "2   18857       1     165    64.0    130     70            3     1      0   \n",
       "3   17623       2     169    82.0    150    100            1     1      0   \n",
       "4   17474       1     156    56.0    100     60            1     1      0   \n",
       "\n",
       "    alco  active  cardio  \n",
       "id                        \n",
       "0      0       1       0  \n",
       "1      0       1       1  \n",
       "2      0       0       1  \n",
       "3      0       1       1  \n",
       "4      0       0       0  "
      ]
     },
     "execution_count": 3,
     "metadata": {},
     "output_type": "execute_result"
    }
   ],
   "source": [
    "df.head()"
   ]
  },
  {
   "cell_type": "markdown",
   "metadata": {},
   "source": [
    "**<font color='red'>Вопрос 1 (1 балл).</font> Сколько мужчин и женщин представлено в этом наборе данных? Не было дано расшифровки признака \"пол\" (какому полу соответствует 1, а какому – 2 в признаке ``gender``) – это определите, посмотрев также на рост при разумном предположении, что в среднем мужчины выше.**"
   ]
  },
  {
   "cell_type": "markdown",
   "metadata": {},
   "source": [
    "**<font color='red'>Варианты:</font>**\n",
    "- 45530 женщин и 24470 мужчин\n",
    "- 45530 мужчин и 24470 женщин\n",
    "- 45470 женщин и 24530 мужчин\n",
    "- 45470 мужчин и 24530 женщин"
   ]
  },
  {
   "cell_type": "code",
   "execution_count": 58,
   "metadata": {},
   "outputs": [
    {
     "name": "stdout",
     "output_type": "stream",
     "text": [
      "                age   gender        height        weight         ap_hi  \\\n",
      "count  45530.000000  45530.0  45530.000000  45530.000000  45530.000000   \n",
      "mean   19510.124577      1.0    161.355612     72.565605    128.139249   \n",
      "std     2432.024493      0.0      7.052726     14.238838    158.054522   \n",
      "min    10859.000000      1.0     55.000000     21.000000   -140.000000   \n",
      "25%    18040.000000      1.0    157.000000     63.000000    120.000000   \n",
      "50%    19726.000000      1.0    161.000000     70.000000    120.000000   \n",
      "75%    21330.000000      1.0    166.000000     80.000000    140.000000   \n",
      "max    23701.000000      1.0    250.000000    200.000000  16020.000000   \n",
      "\n",
      "              ap_lo   cholesterol          gluc         smoke          alco  \\\n",
      "count  45530.000000  45530.000000  45530.000000  45530.000000  45530.000000   \n",
      "mean      94.522776      1.384735      1.235054      0.017856      0.025500   \n",
      "std      174.776855      0.693417      0.582956      0.132431      0.157639   \n",
      "min      -70.000000      1.000000      1.000000      0.000000      0.000000   \n",
      "25%       80.000000      1.000000      1.000000      0.000000      0.000000   \n",
      "50%       80.000000      1.000000      1.000000      0.000000      0.000000   \n",
      "75%       90.000000      2.000000      1.000000      0.000000      0.000000   \n",
      "max    11000.000000      3.000000      3.000000      1.000000      1.000000   \n",
      "\n",
      "             active        cardio     age_years           BMI  \n",
      "count  45530.000000  45530.000000  45530.000000  45530.000000  \n",
      "mean       0.802021      0.496727     52.954338     27.987583  \n",
      "std        0.398481      0.499995      6.670351      6.495638  \n",
      "min        0.000000      0.000000     29.000000      8.001829  \n",
      "25%        1.000000      0.000000     49.000000     23.875115  \n",
      "50%        1.000000      0.000000     54.000000     26.709402  \n",
      "75%        1.000000      1.000000     58.000000     31.044558  \n",
      "max        1.000000      1.000000     64.000000    298.666667  \n",
      "                age   gender        height        weight         ap_hi  \\\n",
      "count  24470.000000  24470.0  24470.000000  24470.000000  24470.000000   \n",
      "mean   19392.097875      2.0    169.947895     77.257307    130.078872   \n",
      "std     2529.752770      0.0      7.228895     14.187636    146.186152   \n",
      "min    10798.000000      2.0     65.000000     10.000000   -150.000000   \n",
      "25%    17502.000000      2.0    165.000000     68.000000    120.000000   \n",
      "50%    19655.500000      2.0    170.000000     75.000000    120.000000   \n",
      "75%    21321.000000      2.0    175.000000     85.000000    140.000000   \n",
      "max    23713.000000      2.0    207.000000    200.000000  14020.000000   \n",
      "\n",
      "              ap_lo   cholesterol          gluc         smoke          alco  \\\n",
      "count  24470.000000  24470.000000  24470.000000  24470.000000  24470.000000   \n",
      "mean     100.551982      1.333633      1.210462      0.218880      0.106375   \n",
      "std      211.557292      0.653764      0.551493      0.413496      0.308323   \n",
      "min        0.000000      1.000000      1.000000      0.000000      0.000000   \n",
      "25%       80.000000      1.000000      1.000000      0.000000      0.000000   \n",
      "50%       80.000000      1.000000      1.000000      0.000000      0.000000   \n",
      "75%       90.000000      1.000000      1.000000      0.000000      0.000000   \n",
      "max    10000.000000      3.000000      3.000000      1.000000      1.000000   \n",
      "\n",
      "             active        cardio     age_years           BMI  \n",
      "count  24470.000000  24470.000000  24470.000000  24470.000000  \n",
      "mean       0.806906      0.505231     52.629179     26.754442  \n",
      "std        0.394734      0.499983      6.937803      5.162752  \n",
      "min        0.000000      0.000000     29.000000      3.471784  \n",
      "25%        1.000000      0.000000     47.000000     23.781213  \n",
      "50%        1.000000      1.000000     53.000000     25.910684  \n",
      "75%        1.000000      1.000000     58.000000     29.043709  \n",
      "max        1.000000      1.000000     64.000000    180.678074  \n",
      "161.0\n",
      "170.0\n",
      "                age   gender        height        weight         ap_hi  \\\n",
      "count  45530.000000  45530.0  45530.000000  45530.000000  45530.000000   \n",
      "mean   19510.124577      1.0    161.355612     72.565605    128.139249   \n",
      "std     2432.024493      0.0      7.052726     14.238838    158.054522   \n",
      "min    10859.000000      1.0     55.000000     21.000000   -140.000000   \n",
      "25%    18040.000000      1.0    157.000000     63.000000    120.000000   \n",
      "50%    19726.000000      1.0    161.000000     70.000000    120.000000   \n",
      "75%    21330.000000      1.0    166.000000     80.000000    140.000000   \n",
      "max    23701.000000      1.0    250.000000    200.000000  16020.000000   \n",
      "\n",
      "              ap_lo   cholesterol          gluc         smoke          alco  \\\n",
      "count  45530.000000  45530.000000  45530.000000  45530.000000  45530.000000   \n",
      "mean      94.522776      1.384735      1.235054      0.017856      0.025500   \n",
      "std      174.776855      0.693417      0.582956      0.132431      0.157639   \n",
      "min      -70.000000      1.000000      1.000000      0.000000      0.000000   \n",
      "25%       80.000000      1.000000      1.000000      0.000000      0.000000   \n",
      "50%       80.000000      1.000000      1.000000      0.000000      0.000000   \n",
      "75%       90.000000      2.000000      1.000000      0.000000      0.000000   \n",
      "max    11000.000000      3.000000      3.000000      1.000000      1.000000   \n",
      "\n",
      "             active        cardio     age_years           BMI  \n",
      "count  45530.000000  45530.000000  45530.000000  45530.000000  \n",
      "mean       0.802021      0.496727     52.954338     27.987583  \n",
      "std        0.398481      0.499995      6.670351      6.495638  \n",
      "min        0.000000      0.000000     29.000000      8.001829  \n",
      "25%        1.000000      0.000000     49.000000     23.875115  \n",
      "50%        1.000000      0.000000     54.000000     26.709402  \n",
      "75%        1.000000      1.000000     58.000000     31.044558  \n",
      "max        1.000000      1.000000     64.000000    298.666667  \n",
      "                age   gender        height        weight         ap_hi  \\\n",
      "count  24470.000000  24470.0  24470.000000  24470.000000  24470.000000   \n",
      "mean   19392.097875      2.0    169.947895     77.257307    130.078872   \n",
      "std     2529.752770      0.0      7.228895     14.187636    146.186152   \n",
      "min    10798.000000      2.0     65.000000     10.000000   -150.000000   \n",
      "25%    17502.000000      2.0    165.000000     68.000000    120.000000   \n",
      "50%    19655.500000      2.0    170.000000     75.000000    120.000000   \n",
      "75%    21321.000000      2.0    175.000000     85.000000    140.000000   \n",
      "max    23713.000000      2.0    207.000000    200.000000  14020.000000   \n",
      "\n",
      "              ap_lo   cholesterol          gluc         smoke          alco  \\\n",
      "count  24470.000000  24470.000000  24470.000000  24470.000000  24470.000000   \n",
      "mean     100.551982      1.333633      1.210462      0.218880      0.106375   \n",
      "std      211.557292      0.653764      0.551493      0.413496      0.308323   \n",
      "min        0.000000      1.000000      1.000000      0.000000      0.000000   \n",
      "25%       80.000000      1.000000      1.000000      0.000000      0.000000   \n",
      "50%       80.000000      1.000000      1.000000      0.000000      0.000000   \n",
      "75%       90.000000      1.000000      1.000000      0.000000      0.000000   \n",
      "max    10000.000000      3.000000      3.000000      1.000000      1.000000   \n",
      "\n",
      "             active        cardio     age_years           BMI  \n",
      "count  24470.000000  24470.000000  24470.000000  24470.000000  \n",
      "mean       0.806906      0.505231     52.629179     26.754442  \n",
      "std        0.394734      0.499983      6.937803      5.162752  \n",
      "min        0.000000      0.000000     29.000000      3.471784  \n",
      "25%        1.000000      0.000000     47.000000     23.781213  \n",
      "50%        1.000000      1.000000     53.000000     25.910684  \n",
      "75%        1.000000      1.000000     58.000000     29.043709  \n",
      "max        1.000000      1.000000     64.000000    180.678074  \n",
      "            height\n",
      "gender            \n",
      "1       161.355612\n",
      "2       169.947895\n",
      "1    45530\n",
      "2    24470\n",
      "Name: gender, dtype: int64\n"
     ]
    }
   ],
   "source": [
    "# Ваш код здесь\n",
    "df_gender1 = df[df['gender'] == 1];\n",
    "df_gender2 = df[df['gender'] == 2];\n",
    "print(df_gender1.describe())\n",
    "print(df_gender2.describe())\n",
    "print(df_gender1['height'].median())\n",
    "print(df_gender2['height'].median())\n",
    "women=df_gender1;\n",
    "men=df_gender2;\n",
    "print(women.describe())\n",
    "print(men.describe())\n",
    "\n",
    "print(df.pivot_table(['height'], ['gender'], aggfunc='mean'))\n",
    "print(df['gender'].value_counts())"
   ]
  },
  {
   "cell_type": "markdown",
   "metadata": {},
   "source": [
    "**<font color='red'>Вопрос 2 (1 балл).</font> Кто в среднем чаще указывает, что употребляет алкоголь – мужчины или женщины?**"
   ]
  },
  {
   "cell_type": "markdown",
   "metadata": {},
   "source": [
    "**<font color='red'>Варианты:</font>**\n",
    "- мужчины \n",
    "- женщины"
   ]
  },
  {
   "cell_type": "code",
   "execution_count": 62,
   "metadata": {},
   "outputs": [
    {
     "name": "stdout",
     "output_type": "stream",
     "text": [
      "      age  gender  height  weight  ap_hi  ap_lo  cholesterol  gluc  smoke  \\\n",
      "id                                                                          \n",
      "1   20228       1     156    85.0    140     90            3     1      0   \n",
      "2   18857       1     165    64.0    130     70            3     1      0   \n",
      "4   17474       1     156    56.0    100     60            1     1      0   \n",
      "8   21914       1     151    67.0    120     80            2     2      0   \n",
      "9   22113       1     157    93.0    130     80            3     1      0   \n",
      "\n",
      "    alco  active  cardio  age_years        BMI  \n",
      "id                                              \n",
      "1      0       1       1         55  34.927679  \n",
      "2      0       0       1         51  23.507805  \n",
      "4      0       0       0         47  23.011177  \n",
      "8      0       0       0         60  29.384676  \n",
      "9      0       1       0         60  37.729725  \n",
      "      age  gender  height  weight  ap_hi  ap_lo  cholesterol  gluc  smoke  \\\n",
      "id                                                                          \n",
      "0   18393       2     168    62.0    110     80            1     1      0   \n",
      "3   17623       2     169    82.0    150    100            1     1      0   \n",
      "12  22584       2     178    95.0    130     90            3     3      0   \n",
      "16  18815       2     173    60.0    120     80            1     1      0   \n",
      "18  14791       2     165    60.0    120     80            1     1      0   \n",
      "\n",
      "    alco  active  cardio  age_years        BMI  \n",
      "id                                              \n",
      "0      0       1       0         50  21.967120  \n",
      "3      0       1       1         48  28.710479  \n",
      "12     0       1       1         61  29.983588  \n",
      "16     0       1       0         51  20.047446  \n",
      "18     0       0       0         40  22.038567  \n",
      "groupby\n",
      "         alco                                   \n",
      "        count mean  std  min  25%  50%  75%  max\n",
      "alco                                            \n",
      "0     44369.0  0.0  0.0  0.0  0.0  0.0  0.0  0.0\n",
      "1      1161.0  1.0  0.0  1.0  1.0  1.0  1.0  1.0\n",
      "         alco                                   \n",
      "        count mean  std  min  25%  50%  75%  max\n",
      "alco                                            \n",
      "0     21867.0  0.0  0.0  0.0  0.0  0.0  0.0  0.0\n",
      "1      2603.0  1.0  0.0  1.0  1.0  1.0  1.0  1.0\n",
      "formula\n",
      "0.0254996705469\n",
      "0.106375153249\n",
      "crosstab\n",
      "alco        0     1\n",
      "gender             \n",
      "1       44369  1161\n",
      "2       21867  2603\n",
      "pivot table\n"
     ]
    },
    {
     "data": {
      "text/html": [
       "<div>\n",
       "<style>\n",
       "    .dataframe thead tr:only-child th {\n",
       "        text-align: right;\n",
       "    }\n",
       "\n",
       "    .dataframe thead th {\n",
       "        text-align: left;\n",
       "    }\n",
       "\n",
       "    .dataframe tbody tr th {\n",
       "        vertical-align: top;\n",
       "    }\n",
       "</style>\n",
       "<table border=\"1\" class=\"dataframe\">\n",
       "  <thead>\n",
       "    <tr style=\"text-align: right;\">\n",
       "      <th></th>\n",
       "      <th>alco</th>\n",
       "    </tr>\n",
       "    <tr>\n",
       "      <th>gender</th>\n",
       "      <th></th>\n",
       "    </tr>\n",
       "  </thead>\n",
       "  <tbody>\n",
       "    <tr>\n",
       "      <th>1</th>\n",
       "      <td>0.025500</td>\n",
       "    </tr>\n",
       "    <tr>\n",
       "      <th>2</th>\n",
       "      <td>0.106375</td>\n",
       "    </tr>\n",
       "  </tbody>\n",
       "</table>\n",
       "</div>"
      ],
      "text/plain": [
       "            alco\n",
       "gender          \n",
       "1       0.025500\n",
       "2       0.106375"
      ]
     },
     "execution_count": 62,
     "metadata": {},
     "output_type": "execute_result"
    }
   ],
   "source": [
    "# Ваш код здесь\n",
    "print(women.head())\n",
    "print(men.head())\n",
    "print('groupby')\n",
    "print(women.groupby(['alco'])[['alco']].describe())\n",
    "print(men.groupby(['alco'])[['alco']].describe())\n",
    "\n",
    "print('formula')\n",
    "print(women[women['alco'] == 1].count()[0] / women.count()[0])\n",
    "print(  men[  men['alco'] == 1].count()[0] /   men.count()[0])\n",
    "print('crosstab')\n",
    "print(pd.crosstab(df['gender'], df['alco']))\n",
    "print('pivot table')\n",
    "df.pivot_table(['alco'], ['gender'], aggfunc='mean')"
   ]
  },
  {
   "cell_type": "markdown",
   "metadata": {},
   "source": [
    "**<font color='red'>Вопрос 3 (1 балл).</font> Во сколько раз (округленно, `round`) процент курящих среди мужчин больше, чем процент курящих среди женщин (по крайней мере, по этим анкетным данным)?**"
   ]
  },
  {
   "cell_type": "markdown",
   "metadata": {},
   "source": [
    "**<font color='red'>Варианты:</font>**\n",
    "- 4\n",
    "- 8\n",
    "- 12\n",
    "- 16"
   ]
  },
  {
   "cell_type": "code",
   "execution_count": 63,
   "metadata": {},
   "outputs": [
    {
     "name": "stdout",
     "output_type": "stream",
     "text": [
      "12\n"
     ]
    },
    {
     "data": {
      "text/html": [
       "<div>\n",
       "<style>\n",
       "    .dataframe thead tr:only-child th {\n",
       "        text-align: right;\n",
       "    }\n",
       "\n",
       "    .dataframe thead th {\n",
       "        text-align: left;\n",
       "    }\n",
       "\n",
       "    .dataframe tbody tr th {\n",
       "        vertical-align: top;\n",
       "    }\n",
       "</style>\n",
       "<table border=\"1\" class=\"dataframe\">\n",
       "  <thead>\n",
       "    <tr style=\"text-align: right;\">\n",
       "      <th>smoke</th>\n",
       "      <th>0</th>\n",
       "      <th>1</th>\n",
       "    </tr>\n",
       "    <tr>\n",
       "      <th>gender</th>\n",
       "      <th></th>\n",
       "      <th></th>\n",
       "    </tr>\n",
       "  </thead>\n",
       "  <tbody>\n",
       "    <tr>\n",
       "      <th>1</th>\n",
       "      <td>44717</td>\n",
       "      <td>813</td>\n",
       "    </tr>\n",
       "    <tr>\n",
       "      <th>2</th>\n",
       "      <td>19114</td>\n",
       "      <td>5356</td>\n",
       "    </tr>\n",
       "  </tbody>\n",
       "</table>\n",
       "</div>"
      ],
      "text/plain": [
       "smoke       0     1\n",
       "gender             \n",
       "1       44717   813\n",
       "2       19114  5356"
      ]
     },
     "execution_count": 63,
     "metadata": {},
     "output_type": "execute_result"
    }
   ],
   "source": [
    "# Ваш код здесь\n",
    "women_smoke_perc=women['smoke'].mean()\n",
    "men_smoke_perc=men['smoke'].mean()\n",
    "    \n",
    "print(round(men_smoke_perc / women_smoke_perc))\n",
    "\n",
    "pd.crosstab(df['gender'], df['smoke'])"
   ]
  },
  {
   "cell_type": "markdown",
   "metadata": {},
   "source": [
    "**<font color='red'>Вопрос 4 (1 балл).</font> Вы наверняка заметили, что значения возраста какие-то странные. Догадайтесь, в чем здесь измеряется возраст, и ответьте, на сколько месяцев (примерно) отличаются медианные значения возраста курящих и некурящих.**"
   ]
  },
  {
   "cell_type": "markdown",
   "metadata": {},
   "source": [
    "**<font color='red'>Варианты:</font>**\n",
    "- 5\n",
    "- 10\n",
    "- 15\n",
    "- 20"
   ]
  },
  {
   "cell_type": "code",
   "execution_count": 37,
   "metadata": {},
   "outputs": [
    {
     "name": "stdout",
     "output_type": "stream",
     "text": [
      "19125.0\n",
      "19722.0\n",
      "19.9\n"
     ]
    }
   ],
   "source": [
    "# Ваш код здесь\n",
    "smoke=df[df['smoke'] == 1]\n",
    "not_smoke=df[df['smoke'] == 0]\n",
    "\n",
    "print(smoke['age'].median())\n",
    "print(not_smoke['age'].median())\n",
    "print(abs(smoke['age'].median() - not_smoke['age'].median()) / 30)"
   ]
  },
  {
   "cell_type": "markdown",
   "metadata": {},
   "source": [
    "**<font color='red'>Вопрос 5 (2 балла).</font> В [статье](https://ru.wikipedia.org/wiki/Сердечно-сосудистый_риск) на Википедии про сердечно-сосудистый риск показана шкала SCORE для расчёта риска смерти от сердечно-сосудистого заболевания в ближайшие 10 лет. Вот она:**\n",
    "<img src='../../img/SCORE2007.png' width=70%>\n",
    "\n",
    "Давайте посмотрим на правый верхний прямоугольник, отображающий сегмент курящих мужчин в возрасте от 60 до 64 лет включительно. (Неочевидно, но тут для возраста и давления цифры означают верхнюю границу, и она не включается).\n",
    "\n",
    "Видим 9-ку в левом нижнем углу этого прямоугольника и 47 – в правом верхнем. То есть если при этом систолическое (т.е. верхнее) артериальное давление – меньше 120 мм рт.ст., а уровень холестерина – 4 ммоль/л, то риск ССЗ оценивается примерно в 5 раз ниже, чем если бы давление лежало в интервале [160, 180), а холестерина было бы 8 ммоль/л.\n",
    "\n",
    "Давайте посчитаем аналогичное значение, но на наших данных. \n",
    "\n",
    "Уточнения:\n",
    "- Посчитайте признак ``age_years`` – возраст в годах, округлив до целых (`round`). Для данного примера отберите курящих мужчин от 60 до 64 лет включительно\n",
    "- Категории уровня холестрина на рисунке и в наших данных отличаются. Отображение значений на картинке в значения признака ``cholesterol`` следующее: 4 ммоль/л $\\rightarrow$ 1, 5-7 ммоль/л $\\rightarrow$ 2, 8 ммоль/л $\\rightarrow$ 3.\n",
    "- Интересуют 2 подвыборки курящих мужчин возраста от 60 до 64 лет: первая с верхним артериальным давлением меньше 120 мм рт.ст. и концентрацией холестерина – 4 ммоль/л, а вторая – с верхним артериальным давлением от 160 до 180 мм рт.ст. (не включительно) и концентрацией холестерина – 8 ммоль/л.\n",
    "\n",
    "Во сколько раз (округленно, `round`) отличаются доли больных людей в этих двух подвыборках? Посчитайте на наших данных."
   ]
  },
  {
   "cell_type": "markdown",
   "metadata": {},
   "source": [
    "**<font color='red'>Варианты:</font>**\n",
    "- 2\n",
    "- 3\n",
    "- 4\n",
    "- 5"
   ]
  },
  {
   "cell_type": "code",
   "execution_count": 44,
   "metadata": {},
   "outputs": [
    {
     "data": {
      "text/plain": [
       "3.36"
      ]
     },
     "execution_count": 44,
     "metadata": {},
     "output_type": "execute_result"
    }
   ],
   "source": [
    "# Ваш код здесь\n",
    "df['age_years'] = df['age'].map(lambda x: x // 365)\n",
    "df['age_years'].head()\n",
    "\n",
    "age_60_64 = df[(df['age_years'] >= 60) & (df['age_years'] <= 64)]\n",
    "smoke_men_at_age_60_64 = age_60_64[(age_60_64['gender'] == 2) & (age_60_64['smoke'] == 1)]\n",
    "\n",
    "upper_right_df = smoke_men_at_age_60_64[(smoke_men_at_age_60_64['cholesterol'] == 3) & (smoke_men_at_age_60_64['ap_hi'] >= 160) & (smoke_men_at_age_60_64['ap_hi'] < 180)]\n",
    "lower_left_df = smoke_men_at_age_60_64[(smoke_men_at_age_60_64['cholesterol'] == 1) & (smoke_men_at_age_60_64['ap_hi'] < 120)]\n",
    "upper_right_cardio_prob = len(upper_right_df[upper_right_df['cardio'] == 1]) / len(upper_right_df)\n",
    "lower_left_cardio_prob = len(lower_left_df[lower_left_df['cardio'] == 1]) / len(lower_left_df)\n",
    "upper_right_cardio_prob / lower_left_cardio_prob"
   ]
  },
  {
   "cell_type": "markdown",
   "metadata": {},
   "source": [
    "**<font color='red'>Вопрос 6 (2 балла).</font> Постройте новый признак – BMI ([Body Mass Index](https://en.wikipedia.org/wiki/Body_mass_index)). Для этого надо вес в килограммах поделить на квадрат роста в метрах. Нормальными считаются значения BMI от 18.5 до 25. Выберите верные утверждения.**"
   ]
  },
  {
   "cell_type": "markdown",
   "metadata": {},
   "source": [
    "**<font color='red'>Утверждения:</font>**\n",
    "- Медианный BMI по выборке лежит в пределах нормы\n",
    "- У женщин в среднем BMI выше, чем у мужчин\n",
    "- У здоровых в среднем BMI выше, чем у больных\n",
    "- В сегменте здоровых и непьющих мужчин BMI ближе к норме, чем в сегменте здоровых и непьющих женщин"
   ]
  },
  {
   "cell_type": "code",
   "execution_count": 76,
   "metadata": {},
   "outputs": [
    {
     "name": "stdout",
     "output_type": "stream",
     "text": [
      "26.374068120774975\n",
      "Q1= False\n",
      "27.98758344183312 26.75444235728947\n",
      "Q2= True\n",
      "26.54817520679475 28.566060627015435\n",
      "Q3= False\n",
      "Q4= 25.872638075460173 26.845406594131518\n"
     ]
    }
   ],
   "source": [
    "# Ваш код здесь\n",
    "df['BMI'] = df['weight'] / df['height'].map(lambda x: x * x / 10000)\n",
    "df['BMI'].head()\n",
    "\n",
    "# Q1\n",
    "bmi_median=df['BMI'].median()\n",
    "print(bmi_median)\n",
    "print('Q1=', bmi_median >= 18 and bmi_median <= 25)\n",
    "# Q2\n",
    "women_bmi_mean = df[df['gender'] == 1]['BMI'].mean() \n",
    "men_bmi_mean = df[df['gender'] == 2]['BMI'].mean()\n",
    "print(women_bmi_mean, men_bmi_mean)\n",
    "print('Q2=', women_bmi_mean > men_bmi_mean)\n",
    "# Q3\n",
    "healthy_bmi = df[df['cardio'] == 0]['BMI'].mean()\n",
    "ill_bmi = df[df['cardio'] == 1]['BMI'].mean()\n",
    "print(healthy_bmi, ill_bmi)\n",
    "print('Q3=', healthy_bmi > ill_bmi)\n",
    "# Q4\n",
    "healty_and_not_alco = df[(df['cardio'] == 0) & (df['alco'] == 0)]\n",
    "healty_and_not_alco_men_bmi = healty_and_not_alco[(healty_and_not_alco['gender'] == 2)]['BMI'].mean() \n",
    "healty_and_not_alco_women_bmi = healty_and_not_alco[(healty_and_not_alco['gender'] == 1)]['BMI'].mean()\n",
    "print('Q4=', healty_and_not_alco_men_bmi, healty_and_not_alco_women_bmi)"
   ]
  },
  {
   "cell_type": "markdown",
   "metadata": {},
   "source": [
    "**<font color='red'>Вопрос 7 (2 балла).</font> ** Можно заметить, что данные не особо-то чистые, много в них всякой \"грязи\" и неточностей. Еще лучше мы это увидим, когда обсудим визуализацию данных.\n",
    "\n",
    "Отфильтруйте следующие сегменты пациентов (считаем это ошибками в данных)\n",
    "- указанное нижнее значение артериального давления выше верхнего\n",
    "- рост строго меньше 2.5%-перцентили или строго больше 97.5%-перцентили (используйте `pd.Series.quantile`, если не знаете, что это такое – прочитайте)\n",
    "- вес строго меньше 2.5%-перцентили или строго больше 97.5%-перцентили\n",
    "\n",
    "Этот вовсе не вся чистка данных, которую можно было проделать, но пока остановимся на этом.\n",
    "\n",
    "Сколько процентов данных (округленно, `round`) мы выбросили?"
   ]
  },
  {
   "cell_type": "markdown",
   "metadata": {},
   "source": [
    "**<font color='red'>Варианты:</font>**\n",
    "- 8\n",
    "- 9\n",
    "- 10\n",
    "- 11"
   ]
  },
  {
   "cell_type": "code",
   "execution_count": 56,
   "metadata": {},
   "outputs": [
    {
     "name": "stdout",
     "output_type": "stream",
     "text": [
      "68766\n",
      "65859\n",
      "62784\n",
      "10\n"
     ]
    }
   ],
   "source": [
    "# Ваш код здесь\n",
    "valid_pressure = df[df['ap_lo'] <= df['ap_hi']]\n",
    "print(len(valid_pressure))\n",
    "\n",
    "valid_pressure_height = valid_pressure[(valid_pressure['height'] >= valid_pressure['height'].quantile(q=0.025)) & (valid_pressure['height'] <= valid_pressure['height'].quantile(q=0.975))]\n",
    "print(len(valid_pressure_height))\n",
    "\n",
    "valid_pressure_height_weight = valid_pressure_height[(valid_pressure_height['weight'] >= valid_pressure_height['weight'].quantile(q=0.025)) & (valid_pressure_height['weight'] <= valid_pressure_height['weight'].quantile(q=0.975))]\n",
    "print(len(valid_pressure_height_weight))\n",
    "\n",
    "print(round((1 - len(valid_pressure_height_weight) / len(df)) * 100))"
   ]
  },
  {
   "cell_type": "code",
   "execution_count": null,
   "metadata": {
    "collapsed": true
   },
   "outputs": [],
   "source": []
  }
 ],
 "metadata": {
  "kernelspec": {
   "display_name": "Python 3",
   "language": "python",
   "name": "python3"
  },
  "language_info": {
   "codemirror_mode": {
    "name": "ipython",
    "version": 3
   },
   "file_extension": ".py",
   "mimetype": "text/x-python",
   "name": "python",
   "nbconvert_exporter": "python",
   "pygments_lexer": "ipython3",
   "version": "3.6.1"
  }
 },
 "nbformat": 4,
 "nbformat_minor": 2
}
